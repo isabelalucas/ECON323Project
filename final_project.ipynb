{
 "cells": [
  {
   "cell_type": "code",
   "execution_count": 1,
   "id": "71f7376b-8ec0-41a7-8bd0-03432f5acd39",
   "metadata": {},
   "outputs": [],
   "source": [
    "import pandas as pd\n",
    "import os\n",
    "from datetime import datetime\n"
   ]
  },
  {
   "cell_type": "code",
   "execution_count": 2,
   "id": "7b77411f-95d8-4dcb-94ec-2e08bd313dad",
   "metadata": {},
   "outputs": [],
   "source": [
    "folder_path1 = '/Users/Janvi/Desktop/tiktok'\n",
    "all_files1 = os.listdir(folder_path1)\n",
    "all_dataframes1 = []"
   ]
  },
  {
   "cell_type": "code",
   "execution_count": 3,
   "id": "288d38d6-b306-4b96-8650-7dee20f31d80",
   "metadata": {},
   "outputs": [],
   "source": [
    "def parse_date_from_filename(filename):\n",
    "    try:\n",
    "        return datetime.strptime(filename.split('.')[0], '%m:%d:%Y')\n",
    "    except ValueError:\n",
    "        return None\n",
    "\n",
    "folder_path1 = '/Users/Janvi/Desktop/tiktok'\n",
    "all_files1 = os.listdir(folder_path1)\n",
    "\n",
    "valid_files1 = [file for file in all_files1 if parse_date_from_filename(file) is not None]\n",
    "\n",
    "sorted_files1 = sorted(valid_files1, key=parse_date_from_filename)\n",
    "\n",
    "all_dataframes1 = []\n",
    "\n",
    "for file in sorted_files1:\n",
    "    if file.endswith('.csv'):\n",
    "        file_path1 = os.path.join(folder_path1, file)\n",
    "        date = file.split('.')[0]\n",
    "        \n",
    "        df = pd.read_csv(file_path1)\n",
    "        df['date'] = date\n",
    "        all_dataframes1.append(df)\n",
    "\n",
    "tiktok = pd.concat(all_dataframes1, ignore_index=True)"
   ]
  },
  {
   "cell_type": "code",
   "execution_count": 4,
   "id": "9c3e407e-cc1b-4bd9-91e4-3151cffed048",
   "metadata": {},
   "outputs": [],
   "source": [
    "folder_path2 = '/Users/Janvi/Desktop/spotify'\n",
    "all_files2 = os.listdir(folder_path2)\n",
    "all_dataframes2 = []"
   ]
  },
  {
   "cell_type": "code",
   "execution_count": 5,
   "id": "de97343d-1a80-448a-940f-f28fcdd1fdb5",
   "metadata": {},
   "outputs": [],
   "source": [
    "folder_path2 = '/Users/Janvi/Desktop/spotify'\n",
    "all_files2 = os.listdir(folder_path2)\n",
    "\n",
    "valid_files2 = [file for file in all_files2 if parse_date_from_filename(file) is not None]\n",
    "\n",
    "sorted_files2 = sorted(valid_files2, key=parse_date_from_filename)\n",
    "\n",
    "all_dataframes2 = []\n",
    "\n",
    "for file in sorted_files2:\n",
    "    if file.endswith('.csv'):\n",
    "        file_path2 = os.path.join(folder_path2, file)\n",
    "        date = file.split('.')[0]\n",
    "        \n",
    "        df = pd.read_csv(file_path2)\n",
    "        df['date'] = date\n",
    "        all_dataframes2.append(df)\n",
    "\n",
    "spotify = pd.concat(all_dataframes2, ignore_index=True)"
   ]
  }
 ],
 "metadata": {
  "kernelspec": {
   "display_name": "cpsc330",
   "language": "python",
   "name": "cpsc330"
  },
  "language_info": {
   "codemirror_mode": {
    "name": "ipython",
    "version": 3
   },
   "file_extension": ".py",
   "mimetype": "text/x-python",
   "name": "python",
   "nbconvert_exporter": "python",
   "pygments_lexer": "ipython3",
   "version": "3.10.6"
  }
 },
 "nbformat": 4,
 "nbformat_minor": 5
}
